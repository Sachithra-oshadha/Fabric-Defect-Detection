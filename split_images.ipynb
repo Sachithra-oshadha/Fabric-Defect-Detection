{
  "nbformat": 4,
  "nbformat_minor": 0,
  "metadata": {
    "colab": {
      "provenance": [],
      "authorship_tag": "ABX9TyO8jU6V/neKjlAVAP5t8Fjo",
      "include_colab_link": true
    },
    "kernelspec": {
      "name": "python3",
      "display_name": "Python 3"
    },
    "language_info": {
      "name": "python"
    }
  },
  "cells": [
    {
      "cell_type": "markdown",
      "metadata": {
        "id": "view-in-github",
        "colab_type": "text"
      },
      "source": [
        "<a href=\"https://colab.research.google.com/github/Sachithra-oshadha/Fabric-Defect-Detection/blob/main/split_images.ipynb\" target=\"_parent\"><img src=\"https://colab.research.google.com/assets/colab-badge.svg\" alt=\"Open In Colab\"/></a>"
      ]
    },
    {
      "cell_type": "code",
      "source": [
        "from google.colab import drive\n",
        "drive.mount('/content/drive')"
      ],
      "metadata": {
        "colab": {
          "base_uri": "https://localhost:8080/"
        },
        "id": "VYl1LaaeYS1P",
        "outputId": "06f9163b-7242-4251-d7f4-335a8814fafd"
      },
      "execution_count": 1,
      "outputs": [
        {
          "output_type": "stream",
          "name": "stdout",
          "text": [
            "Mounted at /content/drive\n"
          ]
        }
      ]
    },
    {
      "cell_type": "code",
      "execution_count": 2,
      "metadata": {
        "id": "2AXDFt6QYQ4s"
      },
      "outputs": [],
      "source": [
        "import os\n",
        "from PIL import Image\n",
        "import logging\n",
        "\n",
        "# Setup logging\n",
        "logging.basicConfig(level=logging.INFO, format='%(asctime)s - %(levelname)s - %(message)s')\n",
        "logger = logging.getLogger(__name__)\n",
        "\n",
        "def split_image(image_path, output_dir, tile_size=640, overlap_percent=0.05):\n",
        "    \"\"\"Split an image into 640x640 tiles with 5% overlap.\"\"\"\n",
        "    img = Image.open(image_path).convert('RGB')\n",
        "    width, height = img.size\n",
        "    overlap_pixels = int(tile_size * overlap_percent)\n",
        "    stride = tile_size - overlap_pixels\n",
        "\n",
        "    if not os.path.exists(output_dir):\n",
        "        os.makedirs(output_dir)\n",
        "\n",
        "    split_paths = []\n",
        "    for y in range(0, height, stride):\n",
        "        for x in range(0, width, stride):\n",
        "            # Crop tile\n",
        "            right = min(x + tile_size, width)\n",
        "            bottom = min(y + tile_size, height)\n",
        "            tile = img.crop((x, y, right, bottom))\n",
        "\n",
        "            # Pad if necessary\n",
        "            if tile.size != (tile_size, tile_size):\n",
        "                new_tile = Image.new('RGB', (tile_size, tile_size), (0, 0, 0))\n",
        "                new_tile.paste(tile, (0, 0))\n",
        "                tile = new_tile\n",
        "\n",
        "            # Save tile\n",
        "            tile_name = f\"{os.path.splitext(os.path.basename(image_path))[0]}_tile_{y//stride}_{x//stride}.png\"\n",
        "            tile_path = os.path.join(output_dir, tile_name)\n",
        "            tile.save(tile_path, 'PNG')\n",
        "            split_paths.append(tile_path)\n",
        "            logger.info(f\"Saved tile {tile_name}\")\n",
        "\n",
        "    return split_paths\n",
        "\n",
        "def main():\n",
        "    # Define input folder in mounted Google Drive\n",
        "    INPUT_FOLDER = '/content/drive/MyDrive/Research'  # Update this path to your folder\n",
        "    OUTPUT_BASE_DIR = INPUT_FOLDER  # Save splits in the same folder\n",
        "\n",
        "    # Supported image extensions\n",
        "    VALID_EXTENSIONS = ('.jpg', '.jpeg', '.png')\n",
        "\n",
        "    # Get list of images\n",
        "    image_paths = [\n",
        "        os.path.join(INPUT_FOLDER, f) for f in os.listdir(INPUT_FOLDER)\n",
        "        if f.lower().endswith(VALID_EXTENSIONS)\n",
        "    ]\n",
        "\n",
        "    if not image_paths:\n",
        "        logger.error(f\"No images found in {INPUT_FOLDER}\")\n",
        "        return\n",
        "\n",
        "    # Process each image\n",
        "    for image_path in image_paths:\n",
        "        image_name = os.path.splitext(os.path.basename(image_path))[0]\n",
        "        splits_dir = os.path.join(OUTPUT_BASE_DIR, f\"{image_name}_splits\")\n",
        "        split_image(image_path, splits_dir)\n",
        "\n",
        "if __name__ == '__main__':\n",
        "    main()"
      ]
    }
  ]
}